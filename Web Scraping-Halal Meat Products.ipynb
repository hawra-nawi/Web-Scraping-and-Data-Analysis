{
 "cells": [
  {
   "cell_type": "markdown",
   "id": "5d43b927",
   "metadata": {},
   "source": [
    "# Web Scraping and Data Analysis- Halal Meat Products"
   ]
  },
  {
   "cell_type": "markdown",
   "id": "c0637959",
   "metadata": {},
   "source": [
    "This programs aims to gather data and information on the all cost of halal meat products sold by **Asda** and **Tesco**.\n",
    "\n",
    "Asda and Tesco are major British retail chains, operating as supermarkets and offering a wide range of products, including groceries, clothing, electronics, and household goods.\n",
    "\n",
    "This programs involves using web scraping and formating the data and information into appropriate data structure and finalise the results with data visualisation"
   ]
  },
  {
   "cell_type": "markdown",
   "id": "06f14525",
   "metadata": {},
   "source": [
    "## 1. Web Scraping - Collecting the Data "
   ]
  },
  {
   "cell_type": "markdown",
   "id": "db6e983b",
   "metadata": {},
   "source": [
    "* Web scraping is an automated process that involves extracting data from websites using scripts or bots to navigate and parse the HTML structure. \n",
    "  * This enables users to collect and analyze information for various purposes. \n",
    "* While `BeautifulSoup` is a commonly used library for web scraping in Python, it may face challenges with complex and dynamically generated content. \n",
    "* To address such complexities, the combination of `selenium` and `WebDriver` proves effective. \n",
    "* `Selenium` is a powerful tool for browser automation, allowing the program to control web browsers, perform actions like navigating to URLs and clicking buttons, and scrape dynamic content efficiently."
   ]
  },
  {
   "cell_type": "markdown",
   "id": "e894d16d",
   "metadata": {},
   "source": [
    "### 1.1 Importing the Libraries"
   ]
  },
  {
   "cell_type": "markdown",
   "id": "1e29d926",
   "metadata": {},
   "source": [
    "These imports are commonly used when combining BeautifulSoup with Selenium for web scraping tasks. BeautifulSoup is used for parsing HTML, while Selenium is employed for automating browser interactions and handling dynamic content. The By class helps specify how to locate elements on a webpage, and WebDriverWait with expected_conditions is used for waiting until certain conditions are met before proceeding with the script execution."
   ]
  },
  {
   "cell_type": "code",
   "execution_count": 1,
   "id": "eedb43b6",
   "metadata": {},
   "outputs": [],
   "source": [
    "# Import the BeautifulSoup class from the bs4 (Beautiful Soup) library\n",
    "from bs4 import BeautifulSoup\n",
    "\n",
    "# Import the WebDriver class from the selenium library\n",
    "from selenium import webdriver\n",
    "\n",
    "# Import the 'By' class from selenium.webdriver.common.by module\n",
    "# This class is used to specify the mechanism used to locate elements on a web page\n",
    "from selenium.webdriver.common.by import By\n",
    "\n",
    "# Import the WebDriverWait class from selenium.webdriver.support.ui module\n",
    "# WebDriverWait is used to wait for a certain condition before proceeding with the execution\n",
    "from selenium.webdriver.support.ui import WebDriverWait\n",
    "\n",
    "# Import the expected_conditions module from selenium.webdriver.support\n",
    "# This module provides predefined conditions to use with WebDriverWait\n",
    "from selenium.webdriver.support import expected_conditions as EC\n",
    "\n",
    "# Import pandas to transform the data into a dataframe\n",
    "import pandas as pd"
   ]
  },
  {
   "cell_type": "markdown",
   "id": "73312222",
   "metadata": {},
   "source": [
    "By using Selenium in combination with BeautifulSoup, you can interact with dynamic web pages, wait for elements to load, and then extract information using BeautifulSoup. This combination is especially useful when dealing with websites that rely heavily on JavaScript or have dynamic content."
   ]
  },
  {
   "cell_type": "markdown",
   "id": "090bac48",
   "metadata": {},
   "source": [
    "### 1.2 WebDriver, Web Sraping and Data Transformation"
   ]
  },
  {
   "cell_type": "code",
   "execution_count": 2,
   "id": "050f04fa",
   "metadata": {},
   "outputs": [
    {
     "name": "stdout",
     "output_type": "stream",
     "text": [
      "                                                 Title Ratings      Price  \\\n",
      "0    Shazans Halal Beef Mince (Typically Less Than ...    2.38  now £4.40   \n",
      "1                 Shazans Halal Chicken Breast Fillets    3.58  now £4.00   \n",
      "2                         Shazans Diced Chicken Breast    3.08  now £4.35   \n",
      "3                         Shazans Chicken Mini Fillets       3  now £4.50   \n",
      "4                        Shazans Chicken Thigh Fillets    2.15  now £4.50   \n",
      "..                                                 ...     ...        ...   \n",
      "123      Melis Pastirma Turkish Style Spicy Cured Beef    2.33  now £2.50   \n",
      "124  Aunty Noray's 6 Hand Made Charcoaled Premium C...    3.63  now £3.50   \n",
      "125      Tahira 4 Chicken Grills, Four Peppers Flavour     2.5  now £1.25   \n",
      "126  Wai Wai X-Press Instant Noodles Creamy Chicken...       5  now £2.50   \n",
      "127  Indomie Indomie Noodles Special Chicken Flavou...       5  now £2.50   \n",
      "\n",
      "     Price_per_Kg  \n",
      "0      (£8.80/kg)  \n",
      "1      (£8.89/kg)  \n",
      "2      (£9.67/kg)  \n",
      "3      (£9.00/kg)  \n",
      "4      (£7.50/kg)  \n",
      "..            ...  \n",
      "123  (£3.12/100g)  \n",
      "124   (£11.67/kg)  \n",
      "125    (£4.81/kg)  \n",
      "126    (£7.14/kg)  \n",
      "127    (£6.67/kg)  \n",
      "\n",
      "[128 rows x 4 columns]\n"
     ]
    }
   ],
   "source": [
    "# Initialize SafariDriver - It opens a new Safari browser window that this Python script can control.\n",
    "driver = webdriver.Safari()\n",
    "\n",
    "# List to store data - Initializes an empty list called data. This list will be used to store information extracted from the web pages.\n",
    "data = []\n",
    "\n",
    "# Loop through the pages - terates through three pages by changing the page_number variable in the URL (in this case, asda has 3 search result pages)\n",
    "for page_number in range(1, 4):\n",
    "    # Construct the URL for each page\n",
    "    url = f\"https://groceries.asda.com/search/halal%20meat/products?page={page_number}\"\n",
    "\n",
    "    # Navigate to the URL\n",
    "    driver.get(url)\n",
    "\n",
    "    # Wait for the product listings to be present (adjust the timeout as needed) - starting with the products name or titles\n",
    "    # Waits for the presence of an element with the class name \"co-product__title\" on the page, ensuring that the page has loaded before proceeding.\n",
    "    WebDriverWait(driver, 10).until(EC.presence_of_element_located((By.CLASS_NAME, \"co-product__title\")))\n",
    "\n",
    "\n",
    "    # Get Page Source and Parse with BeautifulSoup \n",
    "        # Retrieves the HTML source code of the page using the web driver and parses it using BeautifulSoup, a library for pulling data out of HTML and XML files.\n",
    "    \n",
    "    # Get the page source\n",
    "    page_source = driver.page_source\n",
    "    \n",
    "    # Parse the HTML with BeautifulSoup\n",
    "    soup = BeautifulSoup(page_source, \"html.parser\")\n",
    "\n",
    "    # Extract product titles\n",
    "    # Finds all the HTML elements with the tag <h3> and class \"co-product__title\". These are the titles of the halal meat products on the page.\n",
    "    titles = soup.find_all(\"h3\", class_=\"co-product__title\")\n",
    "\n",
    "    # Extract other information and store in the data list \n",
    "    # Iterates through each product title, extracts additional information like ratings, price, and price per kilogram, and appends this data to the 'data' list.\n",
    "    for title in titles:\n",
    "        product_title = title.text.strip()\n",
    "\n",
    "        # 2. Ratings\n",
    "        ratings_button = title.find_next(\"button\", class_=\"co-product__rating\")\n",
    "        ratings = ratings_button[\"aria-label\"].split(\" \")[0] if ratings_button else None\n",
    "\n",
    "        # 3. Price\n",
    "        prices = title.find_next(\"strong\", class_=\"co-product__price\").text.strip() if title.find_next(\"strong\", class_=\"co-product__price\") else None\n",
    "\n",
    "        # 4. Price per Kilogram\n",
    "        price_per_kgs_elements = title.find_next(\"p\", class_=\"co-item__price-per-uom-msg\")\n",
    "        price_per_kg = price_per_kgs_elements.find(\"span\", class_=\"co-product__price-per-uom\").text.strip() if price_per_kgs_elements and price_per_kgs_elements.find(\"span\", class_=\"co-product__price-per-uom\") else None\n",
    "\n",
    "\n",
    "        # Append the data to the list\n",
    "        data.append([product_title, ratings, prices, price_per_kg])\n",
    "\n",
    "# Closes the web browser once all pages have been processed.\n",
    "driver.quit()\n",
    "\n",
    "# Create a DataFrame from the collected data\n",
    "columns = [\"Title\", \"Ratings\", \"Price\", \"Price_per_Kg\"]\n",
    "df = pd.DataFrame(data, columns=columns)\n",
    "\n",
    "# Display the DataFrame\n",
    "print(df)"
   ]
  },
  {
   "cell_type": "markdown",
   "id": "8806c376",
   "metadata": {},
   "source": [
    "In the for loop, we iterate through the product titles (`titles`) extracted from each page of the Asda website. For each title, we extract various information such as ratings, price, and price per kilogram.\n",
    "\n",
    "***Ratings Extraction***\n",
    "\n",
    "We locate the rating button within each product title using the class \"co-product__rating\". The rating is stored in the \"aria-label\" attribute of this button. We use the `split(\" \")` method to split the label into a list of words. For example, the splitting the label string `\"2.38 stars out of 5 based on 50+ reviews\"` into `[\"2.38\", \"stars\", \"out\", \"of\", \"5\", \"based\", \"on\", \"50+\", \"reviews\"]`. \n",
    "\n",
    "The `[0]` index is then used to extract the first element of this list, which corresponds to the numeric rating. If there is no rating button, the `ratings` variable is set to `None`.\n",
    "\n",
    "***Price Extraction***\n",
    "\n",
    "Similarly, we locate the price information within each product title using the class \"co-product__price\". The `.text.strip()` method extracts the text content of the price element. If no price element is found, the `prices` variable is set to `None`.\n",
    "\n",
    "***Price per Kilogram Extraction***\n",
    "\n",
    "For the price per kilogram, we locate the corresponding element with the class \"co-item__price-per-uom-msg\". Within this element, we find the span element with the class \"co-product__price-per-uom\". The `.text.strip()` method extracts the text content, representing the price per kilogram. If no such element is found, or if the span element is not present, the `price_per_kg` variable is set to `None`.\n",
    "\n",
    "These extracted details are then appended to the `data` list, which will be used to create a DataFrame containing information about halal meat products from Asda.\n"
   ]
  },
  {
   "cell_type": "markdown",
   "id": "9f101863",
   "metadata": {},
   "source": [
    "Let's view the data created"
   ]
  },
  {
   "cell_type": "code",
   "execution_count": 3,
   "id": "a6db9566",
   "metadata": {},
   "outputs": [
    {
     "data": {
      "text/html": [
       "<div>\n",
       "<style scoped>\n",
       "    .dataframe tbody tr th:only-of-type {\n",
       "        vertical-align: middle;\n",
       "    }\n",
       "\n",
       "    .dataframe tbody tr th {\n",
       "        vertical-align: top;\n",
       "    }\n",
       "\n",
       "    .dataframe thead th {\n",
       "        text-align: right;\n",
       "    }\n",
       "</style>\n",
       "<table border=\"1\" class=\"dataframe\">\n",
       "  <thead>\n",
       "    <tr style=\"text-align: right;\">\n",
       "      <th></th>\n",
       "      <th>Title</th>\n",
       "      <th>Ratings</th>\n",
       "      <th>Price</th>\n",
       "      <th>Price_per_Kg</th>\n",
       "    </tr>\n",
       "  </thead>\n",
       "  <tbody>\n",
       "    <tr>\n",
       "      <th>0</th>\n",
       "      <td>Shazans Halal Beef Mince (Typically Less Than ...</td>\n",
       "      <td>2.38</td>\n",
       "      <td>now £4.40</td>\n",
       "      <td>(£8.80/kg)</td>\n",
       "    </tr>\n",
       "    <tr>\n",
       "      <th>1</th>\n",
       "      <td>Shazans Halal Chicken Breast Fillets</td>\n",
       "      <td>3.58</td>\n",
       "      <td>now £4.00</td>\n",
       "      <td>(£8.89/kg)</td>\n",
       "    </tr>\n",
       "    <tr>\n",
       "      <th>2</th>\n",
       "      <td>Shazans Diced Chicken Breast</td>\n",
       "      <td>3.08</td>\n",
       "      <td>now £4.35</td>\n",
       "      <td>(£9.67/kg)</td>\n",
       "    </tr>\n",
       "    <tr>\n",
       "      <th>3</th>\n",
       "      <td>Shazans Chicken Mini Fillets</td>\n",
       "      <td>3</td>\n",
       "      <td>now £4.50</td>\n",
       "      <td>(£9.00/kg)</td>\n",
       "    </tr>\n",
       "    <tr>\n",
       "      <th>4</th>\n",
       "      <td>Shazans Chicken Thigh Fillets</td>\n",
       "      <td>2.15</td>\n",
       "      <td>now £4.50</td>\n",
       "      <td>(£7.50/kg)</td>\n",
       "    </tr>\n",
       "  </tbody>\n",
       "</table>\n",
       "</div>"
      ],
      "text/plain": [
       "                                               Title Ratings      Price  \\\n",
       "0  Shazans Halal Beef Mince (Typically Less Than ...    2.38  now £4.40   \n",
       "1               Shazans Halal Chicken Breast Fillets    3.58  now £4.00   \n",
       "2                       Shazans Diced Chicken Breast    3.08  now £4.35   \n",
       "3                       Shazans Chicken Mini Fillets       3  now £4.50   \n",
       "4                      Shazans Chicken Thigh Fillets    2.15  now £4.50   \n",
       "\n",
       "  Price_per_Kg  \n",
       "0   (£8.80/kg)  \n",
       "1   (£8.89/kg)  \n",
       "2   (£9.67/kg)  \n",
       "3   (£9.00/kg)  \n",
       "4   (£7.50/kg)  "
      ]
     },
     "execution_count": 3,
     "metadata": {},
     "output_type": "execute_result"
    }
   ],
   "source": [
    "df.head()"
   ]
  },
  {
   "cell_type": "code",
   "execution_count": 4,
   "id": "9b0ee881",
   "metadata": {},
   "outputs": [
    {
     "data": {
      "text/html": [
       "<div>\n",
       "<style scoped>\n",
       "    .dataframe tbody tr th:only-of-type {\n",
       "        vertical-align: middle;\n",
       "    }\n",
       "\n",
       "    .dataframe tbody tr th {\n",
       "        vertical-align: top;\n",
       "    }\n",
       "\n",
       "    .dataframe thead th {\n",
       "        text-align: right;\n",
       "    }\n",
       "</style>\n",
       "<table border=\"1\" class=\"dataframe\">\n",
       "  <thead>\n",
       "    <tr style=\"text-align: right;\">\n",
       "      <th></th>\n",
       "      <th>Title</th>\n",
       "      <th>Ratings</th>\n",
       "      <th>Price</th>\n",
       "      <th>Price_per_Kg</th>\n",
       "    </tr>\n",
       "  </thead>\n",
       "  <tbody>\n",
       "    <tr>\n",
       "      <th>123</th>\n",
       "      <td>Melis Pastirma Turkish Style Spicy Cured Beef</td>\n",
       "      <td>2.33</td>\n",
       "      <td>now £2.50</td>\n",
       "      <td>(£3.12/100g)</td>\n",
       "    </tr>\n",
       "    <tr>\n",
       "      <th>124</th>\n",
       "      <td>Aunty Noray's 6 Hand Made Charcoaled Premium C...</td>\n",
       "      <td>3.63</td>\n",
       "      <td>now £3.50</td>\n",
       "      <td>(£11.67/kg)</td>\n",
       "    </tr>\n",
       "    <tr>\n",
       "      <th>125</th>\n",
       "      <td>Tahira 4 Chicken Grills, Four Peppers Flavour</td>\n",
       "      <td>2.5</td>\n",
       "      <td>now £1.25</td>\n",
       "      <td>(£4.81/kg)</td>\n",
       "    </tr>\n",
       "    <tr>\n",
       "      <th>126</th>\n",
       "      <td>Wai Wai X-Press Instant Noodles Creamy Chicken...</td>\n",
       "      <td>5</td>\n",
       "      <td>now £2.50</td>\n",
       "      <td>(£7.14/kg)</td>\n",
       "    </tr>\n",
       "    <tr>\n",
       "      <th>127</th>\n",
       "      <td>Indomie Indomie Noodles Special Chicken Flavou...</td>\n",
       "      <td>5</td>\n",
       "      <td>now £2.50</td>\n",
       "      <td>(£6.67/kg)</td>\n",
       "    </tr>\n",
       "  </tbody>\n",
       "</table>\n",
       "</div>"
      ],
      "text/plain": [
       "                                                 Title Ratings      Price  \\\n",
       "123      Melis Pastirma Turkish Style Spicy Cured Beef    2.33  now £2.50   \n",
       "124  Aunty Noray's 6 Hand Made Charcoaled Premium C...    3.63  now £3.50   \n",
       "125      Tahira 4 Chicken Grills, Four Peppers Flavour     2.5  now £1.25   \n",
       "126  Wai Wai X-Press Instant Noodles Creamy Chicken...       5  now £2.50   \n",
       "127  Indomie Indomie Noodles Special Chicken Flavou...       5  now £2.50   \n",
       "\n",
       "     Price_per_Kg  \n",
       "123  (£3.12/100g)  \n",
       "124   (£11.67/kg)  \n",
       "125    (£4.81/kg)  \n",
       "126    (£7.14/kg)  \n",
       "127    (£6.67/kg)  "
      ]
     },
     "execution_count": 4,
     "metadata": {},
     "output_type": "execute_result"
    }
   ],
   "source": [
    "df.tail()"
   ]
  },
  {
   "cell_type": "markdown",
   "id": "b0fd9d87",
   "metadata": {},
   "source": [
    "## 2. Saving the data into a CSV File"
   ]
  },
  {
   "cell_type": "code",
   "execution_count": 5,
   "id": "4bd319ae",
   "metadata": {},
   "outputs": [],
   "source": [
    "df.to_csv(\"Data/halal_meat_data_asda.csv\", index=False)"
   ]
  },
  {
   "cell_type": "code",
   "execution_count": null,
   "id": "177f68e0",
   "metadata": {},
   "outputs": [],
   "source": []
  }
 ],
 "metadata": {
  "kernelspec": {
   "display_name": "Python 3 (ipykernel)",
   "language": "python",
   "name": "python3"
  },
  "language_info": {
   "codemirror_mode": {
    "name": "ipython",
    "version": 3
   },
   "file_extension": ".py",
   "mimetype": "text/x-python",
   "name": "python",
   "nbconvert_exporter": "python",
   "pygments_lexer": "ipython3",
   "version": "3.10.9"
  }
 },
 "nbformat": 4,
 "nbformat_minor": 5
}
