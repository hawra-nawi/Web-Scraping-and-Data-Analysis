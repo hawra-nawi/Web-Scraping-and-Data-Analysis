{
 "cells": [
  {
   "cell_type": "markdown",
   "metadata": {},
   "source": [
    "## Data Analysis "
   ]
  },
  {
   "cell_type": "code",
   "execution_count": 1,
   "metadata": {},
   "outputs": [],
   "source": [
    "# Data Cleaning with the Asda Halal Meat Products\n",
    "\n",
    "# Loading the data and assessing the data"
   ]
  },
  {
   "cell_type": "code",
   "execution_count": 1,
   "metadata": {},
   "outputs": [],
   "source": [
    "# Loading the data\n",
    "import pandas as pd\n",
    "\n",
    "asda_df = pd.read_csv('Data/halal_meat_data_asda.csv')"
   ]
  },
  {
   "cell_type": "code",
   "execution_count": 95,
   "metadata": {},
   "outputs": [
    {
     "data": {
      "text/html": [
       "<div>\n",
       "<style scoped>\n",
       "    .dataframe tbody tr th:only-of-type {\n",
       "        vertical-align: middle;\n",
       "    }\n",
       "\n",
       "    .dataframe tbody tr th {\n",
       "        vertical-align: top;\n",
       "    }\n",
       "\n",
       "    .dataframe thead th {\n",
       "        text-align: right;\n",
       "    }\n",
       "</style>\n",
       "<table border=\"1\" class=\"dataframe\">\n",
       "  <thead>\n",
       "    <tr style=\"text-align: right;\">\n",
       "      <th></th>\n",
       "      <th>Title</th>\n",
       "      <th>Ratings</th>\n",
       "      <th>Price</th>\n",
       "      <th>Price_per_Kg</th>\n",
       "    </tr>\n",
       "  </thead>\n",
       "  <tbody>\n",
       "    <tr>\n",
       "      <th>0</th>\n",
       "      <td>Shazans Halal Beef Mince (Typically Less Than ...</td>\n",
       "      <td>2.38</td>\n",
       "      <td>now £4.40</td>\n",
       "      <td>(£8.80/kg)</td>\n",
       "    </tr>\n",
       "    <tr>\n",
       "      <th>1</th>\n",
       "      <td>Shazans Halal Chicken Breast Fillets</td>\n",
       "      <td>3.58</td>\n",
       "      <td>now £4.00</td>\n",
       "      <td>(£8.89/kg)</td>\n",
       "    </tr>\n",
       "    <tr>\n",
       "      <th>2</th>\n",
       "      <td>Shazans Diced Chicken Breast</td>\n",
       "      <td>3.08</td>\n",
       "      <td>now £4.35</td>\n",
       "      <td>(£9.67/kg)</td>\n",
       "    </tr>\n",
       "    <tr>\n",
       "      <th>3</th>\n",
       "      <td>Shazans Chicken Mini Fillets</td>\n",
       "      <td>3.00</td>\n",
       "      <td>now £4.50</td>\n",
       "      <td>(£9.00/kg)</td>\n",
       "    </tr>\n",
       "    <tr>\n",
       "      <th>4</th>\n",
       "      <td>Shazans Chicken Thigh Fillets</td>\n",
       "      <td>2.15</td>\n",
       "      <td>now £4.50</td>\n",
       "      <td>(£7.50/kg)</td>\n",
       "    </tr>\n",
       "  </tbody>\n",
       "</table>\n",
       "</div>"
      ],
      "text/plain": [
       "                                               Title  Ratings      Price  \\\n",
       "0  Shazans Halal Beef Mince (Typically Less Than ...     2.38  now £4.40   \n",
       "1               Shazans Halal Chicken Breast Fillets     3.58  now £4.00   \n",
       "2                       Shazans Diced Chicken Breast     3.08  now £4.35   \n",
       "3                       Shazans Chicken Mini Fillets     3.00  now £4.50   \n",
       "4                      Shazans Chicken Thigh Fillets     2.15  now £4.50   \n",
       "\n",
       "  Price_per_Kg  \n",
       "0   (£8.80/kg)  \n",
       "1   (£8.89/kg)  \n",
       "2   (£9.67/kg)  \n",
       "3   (£9.00/kg)  \n",
       "4   (£7.50/kg)  "
      ]
     },
     "execution_count": 95,
     "metadata": {},
     "output_type": "execute_result"
    }
   ],
   "source": [
    "asda_df.head()"
   ]
  },
  {
   "cell_type": "code",
   "execution_count": 3,
   "metadata": {},
   "outputs": [
    {
     "name": "stdout",
     "output_type": "stream",
     "text": [
      "<class 'pandas.core.frame.DataFrame'>\n",
      "RangeIndex: 128 entries, 0 to 127\n",
      "Data columns (total 4 columns):\n",
      " #   Column        Non-Null Count  Dtype  \n",
      "---  ------        --------------  -----  \n",
      " 0   Title         128 non-null    object \n",
      " 1   Ratings       128 non-null    float64\n",
      " 2   Price         128 non-null    object \n",
      " 3   Price_per_Kg  127 non-null    object \n",
      "dtypes: float64(1), object(3)\n",
      "memory usage: 4.1+ KB\n"
     ]
    }
   ],
   "source": [
    "asda_df.info()\n",
    "# In Pandas, when the info() function reports the data type as object, it generally means that the column contains mixed data types or that it is a non-numeric data type. \n",
    "# In your case, the \"Title,\" \"Price,\" and \"Price_per_Kg\" columns are all identified as object.\n",
    "#The object data type in Pandas is a catch-all for various non-numeric types, such as strings, mixed types, or instances where the data type could not be determined automatically."
   ]
  },
  {
   "cell_type": "code",
   "execution_count": 4,
   "metadata": {},
   "outputs": [
    {
     "data": {
      "text/html": [
       "<div>\n",
       "<style scoped>\n",
       "    .dataframe tbody tr th:only-of-type {\n",
       "        vertical-align: middle;\n",
       "    }\n",
       "\n",
       "    .dataframe tbody tr th {\n",
       "        vertical-align: top;\n",
       "    }\n",
       "\n",
       "    .dataframe thead th {\n",
       "        text-align: right;\n",
       "    }\n",
       "</style>\n",
       "<table border=\"1\" class=\"dataframe\">\n",
       "  <thead>\n",
       "    <tr style=\"text-align: right;\">\n",
       "      <th></th>\n",
       "      <th>Ratings</th>\n",
       "    </tr>\n",
       "  </thead>\n",
       "  <tbody>\n",
       "    <tr>\n",
       "      <th>count</th>\n",
       "      <td>128.000000</td>\n",
       "    </tr>\n",
       "    <tr>\n",
       "      <th>mean</th>\n",
       "      <td>3.748281</td>\n",
       "    </tr>\n",
       "    <tr>\n",
       "      <th>std</th>\n",
       "      <td>0.820802</td>\n",
       "    </tr>\n",
       "    <tr>\n",
       "      <th>min</th>\n",
       "      <td>1.000000</td>\n",
       "    </tr>\n",
       "    <tr>\n",
       "      <th>25%</th>\n",
       "      <td>3.215000</td>\n",
       "    </tr>\n",
       "    <tr>\n",
       "      <th>50%</th>\n",
       "      <td>3.815000</td>\n",
       "    </tr>\n",
       "    <tr>\n",
       "      <th>75%</th>\n",
       "      <td>4.330000</td>\n",
       "    </tr>\n",
       "    <tr>\n",
       "      <th>max</th>\n",
       "      <td>5.000000</td>\n",
       "    </tr>\n",
       "  </tbody>\n",
       "</table>\n",
       "</div>"
      ],
      "text/plain": [
       "          Ratings\n",
       "count  128.000000\n",
       "mean     3.748281\n",
       "std      0.820802\n",
       "min      1.000000\n",
       "25%      3.215000\n",
       "50%      3.815000\n",
       "75%      4.330000\n",
       "max      5.000000"
      ]
     },
     "execution_count": 4,
     "metadata": {},
     "output_type": "execute_result"
    }
   ],
   "source": [
    "asda_df.describe()"
   ]
  },
  {
   "cell_type": "code",
   "execution_count": 9,
   "metadata": {},
   "outputs": [],
   "source": [
    "## Let's do some cleaning to the data frame "
   ]
  },
  {
   "cell_type": "code",
   "execution_count": 69,
   "metadata": {},
   "outputs": [],
   "source": [
    "# Let's do data type conversion \n",
    "# first start with the title - this is has been recognised as a object as there is a mixture of characters and numbers but this should be a strign data type\n",
    "# as we will be making changes to our data frame, let's have the df as a new version to leave the original version\n",
    "asda_df_new = asda_df.copy()\n",
    "\n",
    "# converting the title data type\n",
    "# asda_df_new['Title'] = asda_df_new['Title'].astype('str') # this didnt make much difference"
   ]
  },
  {
   "cell_type": "code",
   "execution_count": 47,
   "metadata": {},
   "outputs": [
    {
     "data": {
      "text/html": [
       "<div>\n",
       "<style scoped>\n",
       "    .dataframe tbody tr th:only-of-type {\n",
       "        vertical-align: middle;\n",
       "    }\n",
       "\n",
       "    .dataframe tbody tr th {\n",
       "        vertical-align: top;\n",
       "    }\n",
       "\n",
       "    .dataframe thead th {\n",
       "        text-align: right;\n",
       "    }\n",
       "</style>\n",
       "<table border=\"1\" class=\"dataframe\">\n",
       "  <thead>\n",
       "    <tr style=\"text-align: right;\">\n",
       "      <th></th>\n",
       "      <th>Title</th>\n",
       "      <th>Ratings</th>\n",
       "      <th>Price</th>\n",
       "      <th>Price_per_Kg</th>\n",
       "    </tr>\n",
       "  </thead>\n",
       "  <tbody>\n",
       "    <tr>\n",
       "      <th>0</th>\n",
       "      <td>Shazans Halal Beef Mince (Typically Less Than ...</td>\n",
       "      <td>2.38</td>\n",
       "      <td>now £4.40</td>\n",
       "      <td>(£8.80/kg)</td>\n",
       "    </tr>\n",
       "    <tr>\n",
       "      <th>1</th>\n",
       "      <td>Shazans Halal Chicken Breast Fillets</td>\n",
       "      <td>3.58</td>\n",
       "      <td>now £4.00</td>\n",
       "      <td>(£8.89/kg)</td>\n",
       "    </tr>\n",
       "    <tr>\n",
       "      <th>2</th>\n",
       "      <td>Shazans Diced Chicken Breast</td>\n",
       "      <td>3.08</td>\n",
       "      <td>now £4.35</td>\n",
       "      <td>(£9.67/kg)</td>\n",
       "    </tr>\n",
       "    <tr>\n",
       "      <th>3</th>\n",
       "      <td>Shazans Chicken Mini Fillets</td>\n",
       "      <td>3.00</td>\n",
       "      <td>now £4.50</td>\n",
       "      <td>(£9.00/kg)</td>\n",
       "    </tr>\n",
       "    <tr>\n",
       "      <th>4</th>\n",
       "      <td>Shazans Chicken Thigh Fillets</td>\n",
       "      <td>2.15</td>\n",
       "      <td>now £4.50</td>\n",
       "      <td>(£7.50/kg)</td>\n",
       "    </tr>\n",
       "  </tbody>\n",
       "</table>\n",
       "</div>"
      ],
      "text/plain": [
       "                                               Title  Ratings      Price  \\\n",
       "0  Shazans Halal Beef Mince (Typically Less Than ...     2.38  now £4.40   \n",
       "1               Shazans Halal Chicken Breast Fillets     3.58  now £4.00   \n",
       "2                       Shazans Diced Chicken Breast     3.08  now £4.35   \n",
       "3                       Shazans Chicken Mini Fillets     3.00  now £4.50   \n",
       "4                      Shazans Chicken Thigh Fillets     2.15  now £4.50   \n",
       "\n",
       "  Price_per_Kg  \n",
       "0   (£8.80/kg)  \n",
       "1   (£8.89/kg)  \n",
       "2   (£9.67/kg)  \n",
       "3   (£9.00/kg)  \n",
       "4   (£7.50/kg)  "
      ]
     },
     "execution_count": 47,
     "metadata": {},
     "output_type": "execute_result"
    }
   ],
   "source": [
    "asda_df_new.head()"
   ]
  },
  {
   "cell_type": "code",
   "execution_count": 7,
   "metadata": {},
   "outputs": [
    {
     "name": "stdout",
     "output_type": "stream",
     "text": [
      "<class 'pandas.core.frame.DataFrame'>\n",
      "RangeIndex: 128 entries, 0 to 127\n",
      "Data columns (total 4 columns):\n",
      " #   Column        Non-Null Count  Dtype  \n",
      "---  ------        --------------  -----  \n",
      " 0   Title         128 non-null    object \n",
      " 1   Ratings       128 non-null    float64\n",
      " 2   Price         128 non-null    object \n",
      " 3   Price_per_Kg  127 non-null    object \n",
      "dtypes: float64(1), object(3)\n",
      "memory usage: 4.1+ KB\n",
      "<class 'pandas.core.frame.DataFrame'>\n",
      "RangeIndex: 128 entries, 0 to 127\n",
      "Data columns (total 4 columns):\n",
      " #   Column        Non-Null Count  Dtype  \n",
      "---  ------        --------------  -----  \n",
      " 0   Title         128 non-null    object \n",
      " 1   Ratings       128 non-null    float64\n",
      " 2   Price         128 non-null    object \n",
      " 3   Price_per_Kg  127 non-null    object \n",
      "dtypes: float64(1), object(3)\n",
      "memory usage: 4.1+ KB\n"
     ]
    }
   ],
   "source": [
    "asda_df.info()\n",
    "asda_df_new.info()"
   ]
  },
  {
   "cell_type": "code",
   "execution_count": 8,
   "metadata": {},
   "outputs": [
    {
     "data": {
      "text/html": [
       "<div>\n",
       "<style scoped>\n",
       "    .dataframe tbody tr th:only-of-type {\n",
       "        vertical-align: middle;\n",
       "    }\n",
       "\n",
       "    .dataframe tbody tr th {\n",
       "        vertical-align: top;\n",
       "    }\n",
       "\n",
       "    .dataframe thead th {\n",
       "        text-align: right;\n",
       "    }\n",
       "</style>\n",
       "<table border=\"1\" class=\"dataframe\">\n",
       "  <thead>\n",
       "    <tr style=\"text-align: right;\">\n",
       "      <th></th>\n",
       "      <th>Title</th>\n",
       "      <th>Ratings</th>\n",
       "      <th>Price</th>\n",
       "      <th>Price_per_Kg</th>\n",
       "    </tr>\n",
       "  </thead>\n",
       "  <tbody>\n",
       "    <tr>\n",
       "      <th>0</th>\n",
       "      <td>Shazans Halal Beef Mince (Typically Less Than ...</td>\n",
       "      <td>2.38</td>\n",
       "      <td>now £4.40</td>\n",
       "      <td>(£8.80/kg)</td>\n",
       "    </tr>\n",
       "    <tr>\n",
       "      <th>1</th>\n",
       "      <td>Shazans Halal Chicken Breast Fillets</td>\n",
       "      <td>3.58</td>\n",
       "      <td>now £4.00</td>\n",
       "      <td>(£8.89/kg)</td>\n",
       "    </tr>\n",
       "    <tr>\n",
       "      <th>2</th>\n",
       "      <td>Shazans Diced Chicken Breast</td>\n",
       "      <td>3.08</td>\n",
       "      <td>now £4.35</td>\n",
       "      <td>(£9.67/kg)</td>\n",
       "    </tr>\n",
       "    <tr>\n",
       "      <th>3</th>\n",
       "      <td>Shazans Chicken Mini Fillets</td>\n",
       "      <td>3.00</td>\n",
       "      <td>now £4.50</td>\n",
       "      <td>(£9.00/kg)</td>\n",
       "    </tr>\n",
       "    <tr>\n",
       "      <th>4</th>\n",
       "      <td>Shazans Chicken Thigh Fillets</td>\n",
       "      <td>2.15</td>\n",
       "      <td>now £4.50</td>\n",
       "      <td>(£7.50/kg)</td>\n",
       "    </tr>\n",
       "  </tbody>\n",
       "</table>\n",
       "</div>"
      ],
      "text/plain": [
       "                                               Title  Ratings      Price  \\\n",
       "0  Shazans Halal Beef Mince (Typically Less Than ...     2.38  now £4.40   \n",
       "1               Shazans Halal Chicken Breast Fillets     3.58  now £4.00   \n",
       "2                       Shazans Diced Chicken Breast     3.08  now £4.35   \n",
       "3                       Shazans Chicken Mini Fillets     3.00  now £4.50   \n",
       "4                      Shazans Chicken Thigh Fillets     2.15  now £4.50   \n",
       "\n",
       "  Price_per_Kg  \n",
       "0   (£8.80/kg)  \n",
       "1   (£8.89/kg)  \n",
       "2   (£9.67/kg)  \n",
       "3   (£9.00/kg)  \n",
       "4   (£7.50/kg)  "
      ]
     },
     "execution_count": 8,
     "metadata": {},
     "output_type": "execute_result"
    }
   ],
   "source": [
    "# print(asda_df_new['Title'].dtype)\n",
    "\n",
    "asda_df_new.head()"
   ]
  },
  {
   "cell_type": "code",
   "execution_count": 64,
   "metadata": {},
   "outputs": [],
   "source": [
    "# Let's remove the string character from the price column (i.e. 'now £') and convert it to float \n",
    "asda_df_new['Price'] = asda_df_new['Price'].str.replace('now £', '').astype('float')"
   ]
  },
  {
   "cell_type": "code",
   "execution_count": 65,
   "metadata": {},
   "outputs": [
    {
     "data": {
      "text/html": [
       "<div>\n",
       "<style scoped>\n",
       "    .dataframe tbody tr th:only-of-type {\n",
       "        vertical-align: middle;\n",
       "    }\n",
       "\n",
       "    .dataframe tbody tr th {\n",
       "        vertical-align: top;\n",
       "    }\n",
       "\n",
       "    .dataframe thead th {\n",
       "        text-align: right;\n",
       "    }\n",
       "</style>\n",
       "<table border=\"1\" class=\"dataframe\">\n",
       "  <thead>\n",
       "    <tr style=\"text-align: right;\">\n",
       "      <th></th>\n",
       "      <th>Title</th>\n",
       "      <th>Ratings</th>\n",
       "      <th>Price</th>\n",
       "      <th>Price_per_Kg</th>\n",
       "    </tr>\n",
       "  </thead>\n",
       "  <tbody>\n",
       "    <tr>\n",
       "      <th>0</th>\n",
       "      <td>Shazans Halal Beef Mince (Typically Less Than ...</td>\n",
       "      <td>2.38</td>\n",
       "      <td>4.40</td>\n",
       "      <td>(£8.80/kg)</td>\n",
       "    </tr>\n",
       "    <tr>\n",
       "      <th>1</th>\n",
       "      <td>Shazans Halal Chicken Breast Fillets</td>\n",
       "      <td>3.58</td>\n",
       "      <td>4.00</td>\n",
       "      <td>(£8.89/kg)</td>\n",
       "    </tr>\n",
       "    <tr>\n",
       "      <th>2</th>\n",
       "      <td>Shazans Diced Chicken Breast</td>\n",
       "      <td>3.08</td>\n",
       "      <td>4.35</td>\n",
       "      <td>(£9.67/kg)</td>\n",
       "    </tr>\n",
       "    <tr>\n",
       "      <th>3</th>\n",
       "      <td>Shazans Chicken Mini Fillets</td>\n",
       "      <td>3.00</td>\n",
       "      <td>4.50</td>\n",
       "      <td>(£9.00/kg)</td>\n",
       "    </tr>\n",
       "    <tr>\n",
       "      <th>4</th>\n",
       "      <td>Shazans Chicken Thigh Fillets</td>\n",
       "      <td>2.15</td>\n",
       "      <td>4.50</td>\n",
       "      <td>(£7.50/kg)</td>\n",
       "    </tr>\n",
       "  </tbody>\n",
       "</table>\n",
       "</div>"
      ],
      "text/plain": [
       "                                               Title  Ratings  Price  \\\n",
       "0  Shazans Halal Beef Mince (Typically Less Than ...     2.38   4.40   \n",
       "1               Shazans Halal Chicken Breast Fillets     3.58   4.00   \n",
       "2                       Shazans Diced Chicken Breast     3.08   4.35   \n",
       "3                       Shazans Chicken Mini Fillets     3.00   4.50   \n",
       "4                      Shazans Chicken Thigh Fillets     2.15   4.50   \n",
       "\n",
       "  Price_per_Kg  \n",
       "0   (£8.80/kg)  \n",
       "1   (£8.89/kg)  \n",
       "2   (£9.67/kg)  \n",
       "3   (£9.00/kg)  \n",
       "4   (£7.50/kg)  "
      ]
     },
     "execution_count": 65,
     "metadata": {},
     "output_type": "execute_result"
    }
   ],
   "source": [
    "asda_df_new.head()"
   ]
  },
  {
   "cell_type": "code",
   "execution_count": 18,
   "metadata": {},
   "outputs": [
    {
     "name": "stdout",
     "output_type": "stream",
     "text": [
      "<class 'pandas.core.frame.DataFrame'>\n",
      "RangeIndex: 128 entries, 0 to 127\n",
      "Data columns (total 4 columns):\n",
      " #   Column        Non-Null Count  Dtype  \n",
      "---  ------        --------------  -----  \n",
      " 0   Title         128 non-null    object \n",
      " 1   Ratings       128 non-null    float64\n",
      " 2   Price         128 non-null    float64\n",
      " 3   Price_per_Kg  127 non-null    object \n",
      "dtypes: float64(2), object(2)\n",
      "memory usage: 4.1+ KB\n"
     ]
    }
   ],
   "source": [
    "# Convert the 'Price' column to a numeric type\n",
    "# asda_df_new['Price'] = pd.to_numeric(asda_df_new['Price'], errors='coerce')\n",
    "\n",
    "asda_df_new.info()"
   ]
  },
  {
   "cell_type": "code",
   "execution_count": 39,
   "metadata": {},
   "outputs": [
    {
     "name": "stdout",
     "output_type": "stream",
     "text": [
      "float64\n"
     ]
    }
   ],
   "source": [
    "print(asda_df_new['Price'].dtype)"
   ]
  },
  {
   "cell_type": "code",
   "execution_count": 40,
   "metadata": {},
   "outputs": [
    {
     "data": {
      "text/html": [
       "<div>\n",
       "<style scoped>\n",
       "    .dataframe tbody tr th:only-of-type {\n",
       "        vertical-align: middle;\n",
       "    }\n",
       "\n",
       "    .dataframe tbody tr th {\n",
       "        vertical-align: top;\n",
       "    }\n",
       "\n",
       "    .dataframe thead th {\n",
       "        text-align: right;\n",
       "    }\n",
       "</style>\n",
       "<table border=\"1\" class=\"dataframe\">\n",
       "  <thead>\n",
       "    <tr style=\"text-align: right;\">\n",
       "      <th></th>\n",
       "      <th>Title</th>\n",
       "      <th>Ratings(Out of 5)</th>\n",
       "      <th>Price(£)</th>\n",
       "      <th>Price_per_Kg</th>\n",
       "    </tr>\n",
       "  </thead>\n",
       "  <tbody>\n",
       "    <tr>\n",
       "      <th>0</th>\n",
       "      <td>Shazans Halal Beef Mince (Typically Less Than ...</td>\n",
       "      <td>2.38</td>\n",
       "      <td>4.40</td>\n",
       "      <td>(£8.80/kg)</td>\n",
       "    </tr>\n",
       "    <tr>\n",
       "      <th>1</th>\n",
       "      <td>Shazans Halal Chicken Breast Fillets</td>\n",
       "      <td>3.58</td>\n",
       "      <td>4.00</td>\n",
       "      <td>(£8.89/kg)</td>\n",
       "    </tr>\n",
       "    <tr>\n",
       "      <th>2</th>\n",
       "      <td>Shazans Diced Chicken Breast</td>\n",
       "      <td>3.08</td>\n",
       "      <td>4.35</td>\n",
       "      <td>(£9.67/kg)</td>\n",
       "    </tr>\n",
       "    <tr>\n",
       "      <th>3</th>\n",
       "      <td>Shazans Chicken Mini Fillets</td>\n",
       "      <td>3.00</td>\n",
       "      <td>4.50</td>\n",
       "      <td>(£9.00/kg)</td>\n",
       "    </tr>\n",
       "    <tr>\n",
       "      <th>4</th>\n",
       "      <td>Shazans Chicken Thigh Fillets</td>\n",
       "      <td>2.15</td>\n",
       "      <td>4.50</td>\n",
       "      <td>(£7.50/kg)</td>\n",
       "    </tr>\n",
       "    <tr>\n",
       "      <th>...</th>\n",
       "      <td>...</td>\n",
       "      <td>...</td>\n",
       "      <td>...</td>\n",
       "      <td>...</td>\n",
       "    </tr>\n",
       "    <tr>\n",
       "      <th>123</th>\n",
       "      <td>Melis Pastirma Turkish Style Spicy Cured Beef</td>\n",
       "      <td>2.33</td>\n",
       "      <td>2.50</td>\n",
       "      <td>(£3.12/100g)</td>\n",
       "    </tr>\n",
       "    <tr>\n",
       "      <th>124</th>\n",
       "      <td>Aunty Noray's 6 Hand Made Charcoaled Premium C...</td>\n",
       "      <td>3.63</td>\n",
       "      <td>3.50</td>\n",
       "      <td>(£11.67/kg)</td>\n",
       "    </tr>\n",
       "    <tr>\n",
       "      <th>125</th>\n",
       "      <td>Tahira 4 Chicken Grills, Four Peppers Flavour</td>\n",
       "      <td>2.50</td>\n",
       "      <td>1.25</td>\n",
       "      <td>(£4.81/kg)</td>\n",
       "    </tr>\n",
       "    <tr>\n",
       "      <th>126</th>\n",
       "      <td>Wai Wai X-Press Instant Noodles Creamy Chicken...</td>\n",
       "      <td>5.00</td>\n",
       "      <td>2.50</td>\n",
       "      <td>(£7.14/kg)</td>\n",
       "    </tr>\n",
       "    <tr>\n",
       "      <th>127</th>\n",
       "      <td>Indomie Indomie Noodles Special Chicken Flavou...</td>\n",
       "      <td>5.00</td>\n",
       "      <td>2.50</td>\n",
       "      <td>(£6.67/kg)</td>\n",
       "    </tr>\n",
       "  </tbody>\n",
       "</table>\n",
       "<p>128 rows × 4 columns</p>\n",
       "</div>"
      ],
      "text/plain": [
       "                                                 Title  Ratings(Out of 5)  \\\n",
       "0    Shazans Halal Beef Mince (Typically Less Than ...               2.38   \n",
       "1                 Shazans Halal Chicken Breast Fillets               3.58   \n",
       "2                         Shazans Diced Chicken Breast               3.08   \n",
       "3                         Shazans Chicken Mini Fillets               3.00   \n",
       "4                        Shazans Chicken Thigh Fillets               2.15   \n",
       "..                                                 ...                ...   \n",
       "123      Melis Pastirma Turkish Style Spicy Cured Beef               2.33   \n",
       "124  Aunty Noray's 6 Hand Made Charcoaled Premium C...               3.63   \n",
       "125      Tahira 4 Chicken Grills, Four Peppers Flavour               2.50   \n",
       "126  Wai Wai X-Press Instant Noodles Creamy Chicken...               5.00   \n",
       "127  Indomie Indomie Noodles Special Chicken Flavou...               5.00   \n",
       "\n",
       "     Price(£)  Price_per_Kg  \n",
       "0        4.40    (£8.80/kg)  \n",
       "1        4.00    (£8.89/kg)  \n",
       "2        4.35    (£9.67/kg)  \n",
       "3        4.50    (£9.00/kg)  \n",
       "4        4.50    (£7.50/kg)  \n",
       "..        ...           ...  \n",
       "123      2.50  (£3.12/100g)  \n",
       "124      3.50   (£11.67/kg)  \n",
       "125      1.25    (£4.81/kg)  \n",
       "126      2.50    (£7.14/kg)  \n",
       "127      2.50    (£6.67/kg)  \n",
       "\n",
       "[128 rows x 4 columns]"
      ]
     },
     "execution_count": 40,
     "metadata": {},
     "output_type": "execute_result"
    }
   ],
   "source": [
    "# df.rename(columns={'oldName1': 'newName1', 'oldName2': 'newName2'})\n",
    "# asda_df_new = \n",
    "asda_df_new.rename(columns={'Ratings': 'Ratings(Out of 5)','Price': 'Price(£)'},)"
   ]
  },
  {
   "cell_type": "code",
   "execution_count": 22,
   "metadata": {},
   "outputs": [
    {
     "data": {
      "text/plain": [
       "array(['(£8.80/kg)', '(£8.89/kg)', '(£9.67/kg)', '(£9.00/kg)',\n",
       "       '(£7.50/kg)', '(£4.00/kg)', '(£4.30/kg)', '(£4.69/kg)',\n",
       "       '(£5.36/kg)', '(£4.15/kg)', '(£5.56/kg)', '(£9.47/kg)',\n",
       "       '(£4.50/kg)', '(£4.61/kg)', '(£3.44/kg)', '(£1.73/100g)',\n",
       "       '(£5.80/kg)', '(£9.69/kg)', '(£10.38/kg)', '(£2.00/100g)',\n",
       "       '(£1.47/100g)', '(£2.30/100g)', '(£9.29/kg)', '(£8.87/kg)',\n",
       "       '(22.5p/each)', '(£7.00/kg)', '(£12.57/kg)', '(55.0p/100g)',\n",
       "       '(£11.67/kg)', '(£10.29/kg)', '(£4.78/kg)', '(£9.60/kg)',\n",
       "       '(£4.29/kg)', '(£1.89/100g)', '(£4.28/kg)', '(78.6p/100g)',\n",
       "       '(£5.88/kg)', nan, '(92.9p/100g)', '(£25.00/kg)', '(£8.57/kg)',\n",
       "       '(£13.00/kg)', '(£2.15/100g)', '(£6.25/kg)', '(£1.03/100g)',\n",
       "       '(£7.60/kg)', '(£14.17/kg)', '(£12.00/kg)', '(£1.17/100g)',\n",
       "       '(£4.57/100g)', '(£2.94/100g)', '(£8.93/kg)', '(£1.80/100g)',\n",
       "       '(£8.33/kg)', '(57.5p/100g)', '(46.0p/100g)', '(£5.19/kg)',\n",
       "       '(£6.00/kg)', '(65.0p/100g)', '(48.0p/100g)', '(£1.29/100g)',\n",
       "       '(£4.64/100g)', '(£5.21/kg)', '(£4.71/kg)', '(44.8p/100g)',\n",
       "       '(15.0p/10g)', '(76.9p/100g)', '(£9.17/kg)', '(£1.12/100g)',\n",
       "       '(£19.03/kg)', '(£8.01/kg)', '(£5.00/kg)', '(71.4p/100g)',\n",
       "       '(75.0p/100g)', '(£4.85/kg)', '(£1.30/100g)', '(£1.53/100g)',\n",
       "       '(46.2p/100g)', '(£21.90/kg)', '(£1.33/100g)', '(£13.85/kg)',\n",
       "       '(£8.67/kg)', '(£11.54/kg)', '(£1.05/100g)', '(£9.74/kg)',\n",
       "       '(£3.12/100g)', '(£4.81/kg)', '(£7.14/kg)', '(£6.67/kg)'],\n",
       "      dtype=object)"
      ]
     },
     "execution_count": 22,
     "metadata": {},
     "output_type": "execute_result"
    }
   ],
   "source": [
    "asda_df_new['Price_per_Kg'].unique()"
   ]
  },
  {
   "cell_type": "code",
   "execution_count": 41,
   "metadata": {},
   "outputs": [
    {
     "data": {
      "text/plain": [
       "(76.9p/100g)    4\n",
       "(71.4p/100g)    4\n",
       "(£4.50/kg)      4\n",
       "(55.0p/100g)    3\n",
       "(£6.00/kg)      3\n",
       "               ..\n",
       "(£4.57/100g)    1\n",
       "(£2.94/100g)    1\n",
       "(£8.93/kg)      1\n",
       "(£1.80/100g)    1\n",
       "(£6.67/kg)      1\n",
       "Name: Price_per_Kg, Length: 88, dtype: int64"
      ]
     },
     "execution_count": 41,
     "metadata": {},
     "output_type": "execute_result"
    }
   ],
   "source": [
    "asda_df_new['Price_per_Kg'].value_counts()"
   ]
  },
  {
   "cell_type": "code",
   "execution_count": 26,
   "metadata": {},
   "outputs": [
    {
     "data": {
      "text/plain": [
       "(76.9p/100g)    False\n",
       "(71.4p/100g)    False\n",
       "(£4.50/kg)      False\n",
       "(55.0p/100g)    False\n",
       "(£6.00/kg)      False\n",
       "                ...  \n",
       "(£4.57/100g)    False\n",
       "(£2.94/100g)    False\n",
       "(£8.93/kg)      False\n",
       "(£1.80/100g)    False\n",
       "(£6.67/kg)      False\n",
       "Name: Price_per_Kg, Length: 88, dtype: bool"
      ]
     },
     "execution_count": 26,
     "metadata": {},
     "output_type": "execute_result"
    }
   ],
   "source": [
    "asda_df_new['Price_per_Kg'].value_counts().isnull()"
   ]
  },
  {
   "cell_type": "code",
   "execution_count": null,
   "metadata": {},
   "outputs": [],
   "source": []
  },
  {
   "cell_type": "code",
   "execution_count": 99,
   "metadata": {},
   "outputs": [
    {
     "ename": "KeyError",
     "evalue": "['Price_per_kg']",
     "output_type": "error",
     "traceback": [
      "\u001b[0;31m---------------------------------------------------------------------------\u001b[0m",
      "\u001b[0;31mKeyError\u001b[0m                                  Traceback (most recent call last)",
      "Cell \u001b[0;32mIn[99], line 8\u001b[0m\n\u001b[1;32m      5\u001b[0m price_column \u001b[38;5;241m=\u001b[39m \u001b[38;5;124m'\u001b[39m\u001b[38;5;124mPrice_per_kg\u001b[39m\u001b[38;5;124m'\u001b[39m\n\u001b[1;32m      7\u001b[0m \u001b[38;5;66;03m# Step 1: Remove missing values (NaN)\u001b[39;00m\n\u001b[0;32m----> 8\u001b[0m asda_df_new \u001b[38;5;241m=\u001b[39m \u001b[43masda_df_new\u001b[49m\u001b[38;5;241;43m.\u001b[39;49m\u001b[43mdropna\u001b[49m\u001b[43m(\u001b[49m\u001b[43msubset\u001b[49m\u001b[38;5;241;43m=\u001b[39;49m\u001b[43m[\u001b[49m\u001b[43mprice_column\u001b[49m\u001b[43m]\u001b[49m\u001b[43m)\u001b[49m\n\u001b[1;32m     10\u001b[0m \u001b[38;5;66;03m# Step 2: Define a function to clean the price values\u001b[39;00m\n\u001b[1;32m     11\u001b[0m \u001b[38;5;28;01mdef\u001b[39;00m \u001b[38;5;21mclean_price\u001b[39m(value):\n",
      "File \u001b[0;32m~/anaconda3/lib/python3.10/site-packages/pandas/util/_decorators.py:331\u001b[0m, in \u001b[0;36mdeprecate_nonkeyword_arguments.<locals>.decorate.<locals>.wrapper\u001b[0;34m(*args, **kwargs)\u001b[0m\n\u001b[1;32m    325\u001b[0m \u001b[38;5;28;01mif\u001b[39;00m \u001b[38;5;28mlen\u001b[39m(args) \u001b[38;5;241m>\u001b[39m num_allow_args:\n\u001b[1;32m    326\u001b[0m     warnings\u001b[38;5;241m.\u001b[39mwarn(\n\u001b[1;32m    327\u001b[0m         msg\u001b[38;5;241m.\u001b[39mformat(arguments\u001b[38;5;241m=\u001b[39m_format_argument_list(allow_args)),\n\u001b[1;32m    328\u001b[0m         \u001b[38;5;167;01mFutureWarning\u001b[39;00m,\n\u001b[1;32m    329\u001b[0m         stacklevel\u001b[38;5;241m=\u001b[39mfind_stack_level(),\n\u001b[1;32m    330\u001b[0m     )\n\u001b[0;32m--> 331\u001b[0m \u001b[38;5;28;01mreturn\u001b[39;00m \u001b[43mfunc\u001b[49m\u001b[43m(\u001b[49m\u001b[38;5;241;43m*\u001b[39;49m\u001b[43margs\u001b[49m\u001b[43m,\u001b[49m\u001b[43m \u001b[49m\u001b[38;5;241;43m*\u001b[39;49m\u001b[38;5;241;43m*\u001b[39;49m\u001b[43mkwargs\u001b[49m\u001b[43m)\u001b[49m\n",
      "File \u001b[0;32m~/anaconda3/lib/python3.10/site-packages/pandas/core/frame.py:6561\u001b[0m, in \u001b[0;36mDataFrame.dropna\u001b[0;34m(self, axis, how, thresh, subset, inplace)\u001b[0m\n\u001b[1;32m   6559\u001b[0m     check \u001b[38;5;241m=\u001b[39m indices \u001b[38;5;241m==\u001b[39m \u001b[38;5;241m-\u001b[39m\u001b[38;5;241m1\u001b[39m\n\u001b[1;32m   6560\u001b[0m     \u001b[38;5;28;01mif\u001b[39;00m check\u001b[38;5;241m.\u001b[39many():\n\u001b[0;32m-> 6561\u001b[0m         \u001b[38;5;28;01mraise\u001b[39;00m \u001b[38;5;167;01mKeyError\u001b[39;00m(np\u001b[38;5;241m.\u001b[39marray(subset)[check]\u001b[38;5;241m.\u001b[39mtolist())\n\u001b[1;32m   6562\u001b[0m     agg_obj \u001b[38;5;241m=\u001b[39m \u001b[38;5;28mself\u001b[39m\u001b[38;5;241m.\u001b[39mtake(indices, axis\u001b[38;5;241m=\u001b[39magg_axis)\n\u001b[1;32m   6564\u001b[0m \u001b[38;5;28;01mif\u001b[39;00m thresh \u001b[38;5;129;01mis\u001b[39;00m \u001b[38;5;129;01mnot\u001b[39;00m no_default:\n",
      "\u001b[0;31mKeyError\u001b[0m: ['Price_per_kg']"
     ]
    }
   ],
   "source": [
    "# import pandas as pd\n",
    "# import numpy as np\n",
    "\n",
    "# # Assuming your dataframe is named 'asda_df_new'\n",
    "# price_column = 'Price_per_kg'\n",
    "\n",
    "# # Step 1: Remove missing values (NaN)\n",
    "# asda_df_new = asda_df_new.dropna(subset=[price_column])\n",
    "\n",
    "# # Step 2: Define a function to clean the price values\n",
    "# def clean_price(value):\n",
    "#     if 'kg' in value:\n",
    "#         return float(value.replace(' (£', '').replace('/Kg)', ''))\n",
    "#     elif '100g' in value:\n",
    "#         # Extract the numeric value from the string and convert to float\n",
    "#         price_per_100g = float(value.replace(' (£', '').replace('/100g)', ''))\n",
    "#         # Convert price per 100g to price per kg\n",
    "#         price_per_kg = price_per_100g * 10\n",
    "#         return price_per_kg\n",
    "#     elif 'p/each' in value:\n",
    "#         # Extract the numeric value from the string and convert to float\n",
    "#         price_per_each = float(value.replace('(22.5p/each)', '').replace('(55.0p/each)', ''))\n",
    "#         # Assuming each item is 100g, convert price per item to price per kg\n",
    "#         price_per_kg = price_per_each * 10\n",
    "#         return price_per_kg\n",
    "#     else:\n",
    "#         return np.nan  # If the format is not recognized, return NaN\n",
    "\n",
    "# # Step 3: Apply the clean_price function to the entire column\n",
    "# asda_df_new[price_column] = asda_df_new[price_column].apply(clean_price)\n",
    "\n",
    "# # Now, 'Price_per_kg' column should be cleaned according to your requirements\n",
    "# print(asda_df_new[price_column])\n"
   ]
  },
  {
   "cell_type": "code",
   "execution_count": null,
   "metadata": {},
   "outputs": [],
   "source": []
  },
  {
   "cell_type": "code",
   "execution_count": null,
   "metadata": {},
   "outputs": [],
   "source": []
  },
  {
   "cell_type": "code",
   "execution_count": null,
   "metadata": {},
   "outputs": [],
   "source": []
  },
  {
   "cell_type": "code",
   "execution_count": null,
   "metadata": {},
   "outputs": [],
   "source": []
  },
  {
   "cell_type": "code",
   "execution_count": 84,
   "metadata": {},
   "outputs": [
    {
     "data": {
      "text/plain": [
       "0        8.80kg\n",
       "1        8.89kg\n",
       "2        9.67kg\n",
       "3        9.00kg\n",
       "4        7.50kg\n",
       "         ...   \n",
       "123    3.12100g\n",
       "124     11.67kg\n",
       "125      4.81kg\n",
       "126      7.14kg\n",
       "127      6.67kg\n",
       "Name: Price_per_Kg, Length: 128, dtype: object"
      ]
     },
     "execution_count": 84,
     "metadata": {},
     "output_type": "execute_result"
    }
   ],
   "source": []
  },
  {
   "cell_type": "code",
   "execution_count": 86,
   "metadata": {},
   "outputs": [
    {
     "name": "stdout",
     "output_type": "stream",
     "text": [
      "                                                 Title  Ratings      Price  \\\n",
      "0    Shazans Halal Beef Mince (Typically Less Than ...     2.38  now £4.40   \n",
      "1                 Shazans Halal Chicken Breast Fillets     3.58  now £4.00   \n",
      "2                         Shazans Diced Chicken Breast     3.08  now £4.35   \n",
      "3                         Shazans Chicken Mini Fillets     3.00  now £4.50   \n",
      "4                        Shazans Chicken Thigh Fillets     2.15  now £4.50   \n",
      "..                                                 ...      ...        ...   \n",
      "123      Melis Pastirma Turkish Style Spicy Cured Beef     2.33  now £2.50   \n",
      "124  Aunty Noray's 6 Hand Made Charcoaled Premium C...     3.63  now £3.50   \n",
      "125      Tahira 4 Chicken Grills, Four Peppers Flavour     2.50  now £1.25   \n",
      "126  Wai Wai X-Press Instant Noodles Creamy Chicken...     5.00  now £2.50   \n",
      "127  Indomie Indomie Noodles Special Chicken Flavou...     5.00  now £2.50   \n",
      "\n",
      "     Price_per_Kg  \n",
      "0        8.800000  \n",
      "1        8.890000  \n",
      "2        9.670000  \n",
      "3        9.000000  \n",
      "4        7.500000  \n",
      "..            ...  \n",
      "123      0.003121  \n",
      "124     11.670000  \n",
      "125      4.810000  \n",
      "126      7.140000  \n",
      "127      6.670000  \n",
      "\n",
      "[128 rows x 4 columns]\n"
     ]
    }
   ],
   "source": [
    "import numpy as np\n",
    "\n",
    "# Step 1: Remove unnecessary characters and convert to string\n",
    "asda_df_new['Price_per_Kg'] = asda_df_new['Price_per_Kg'].astype(str).str.replace('[^\\d.gk]', '', regex=True)\n",
    "\n",
    "# Step 2: Identify entries with 'kg' and 'g' and extract numeric part\n",
    "def convert_price(x):\n",
    "    if 'kg' in x:\n",
    "        return float(x.replace('kg', ''))\n",
    "    elif 'g' in x:\n",
    "        return float(x.replace('g', '')) / 1000  # Convert grams to kilograms\n",
    "    else:\n",
    "        return np.nan\n",
    "\n",
    "asda_df_new['Price_per_Kg'] = asda_df_new['Price_per_Kg'].apply(convert_price)\n",
    "\n",
    "# # Display the cleaned DataFrame\n",
    "print(asda_df_new)\n"
   ]
  },
  {
   "cell_type": "code",
   "execution_count": 82,
   "metadata": {},
   "outputs": [
    {
     "data": {
      "text/plain": [
       "0         8.80\n",
       "1         8.89\n",
       "2         9.67\n",
       "3         9.00\n",
       "4         7.50\n",
       "        ...   \n",
       "123    3.12100\n",
       "124      11.67\n",
       "125       4.81\n",
       "126       7.14\n",
       "127       6.67\n",
       "Name: Price_per_Kg, Length: 128, dtype: object"
      ]
     },
     "execution_count": 82,
     "metadata": {},
     "output_type": "execute_result"
    }
   ],
   "source": [
    "# Step 1: Remove unnecessary characters and convert to string\n",
    "# asda_df_new['Price_per_Kg'] = \n",
    "# asda_df_new['Price_per_Kg'].astype(str).str.replace('[^\\d.]', '', regex=True)\n",
    "\n",
    "# # Step 2: Identify entries with 'kg' and extract numeric part\n",
    "# asda_df_new['Price_per_Kg'] = asda_df_new['Price_per_Kg'].apply(lambda x: float(x) if 'kg' in x else None)\n",
    "\n",
    "# # Step 3: Identify entries with 'g' and convert price per 100g to price per kg\n",
    "# g_mask = asda_df_new['Price_per_Kg'].apply(lambda x: 'g' in x if x else False)\n",
    "# asda_df_new.loc[g_mask, 'Price_per_Kg'] *= 10  # Convert to price per kg\n",
    "\n",
    "# # Display the cleaned DataFrame\n",
    "# print(asda_df_new)\n"
   ]
  },
  {
   "cell_type": "code",
   "execution_count": 79,
   "metadata": {},
   "outputs": [],
   "source": [
    "# Creating the user-defined function\n",
    "def conversion(x):\n",
    "    # Check if 'g' is present in the string\n",
    "    if isinstance(x, str) and 'g' in x:\n",
    "        # Extract numeric part and convert to float\n",
    "        num = float(''.join(c for c in x if c.isdigit() or c == '.')) / 1000\n",
    "    elif isinstance(x, str) and 'kg' in x:\n",
    "        # Extract numeric part and convert to float\n",
    "        num = float(''.join(c for c in x if c.isdigit() or c == '.'))\n",
    "    elif isinstance(x, str):\n",
    "        # If not 'g' or 'kg', return NaN\n",
    "        num = None\n",
    "    else:\n",
    "        # Handle case when x is already a numeric value\n",
    "        num = x\n",
    "    return num\n",
    "\n",
    "\n",
    "# Apply the user-defined function to the 'Price_per_Kg' column\n",
    "asda_df_new['Price_per_Kg'] = asda_df_new['Price_per_Kg'].apply(lambda x: conversion(x))\n",
    "# asda_df_new['Price_per_Kg'].apply(lambda x: conversion(x))\n"
   ]
  },
  {
   "cell_type": "code",
   "execution_count": 80,
   "metadata": {},
   "outputs": [
    {
     "data": {
      "text/plain": [
       "0    0.00880\n",
       "1    0.00889\n",
       "2    0.00967\n",
       "3    0.00900\n",
       "4    0.00750\n",
       "Name: Price_per_Kg, dtype: float64"
      ]
     },
     "execution_count": 80,
     "metadata": {},
     "output_type": "execute_result"
    }
   ],
   "source": [
    "asda_df_new['Price_per_Kg'].head()"
   ]
  },
  {
   "cell_type": "code",
   "execution_count": 66,
   "metadata": {},
   "outputs": [],
   "source": [
    "# Task 1: Remove unwanted characters\n",
    "# Use the .replace() method to remove unwanted characters like '(', ')', '£', 'kg', and '/100g'.\n",
    "\n",
    "asda_df_new['Price_per_Kg'] = asda_df_new['Price_per_Kg'].replace(['\\(', '\\)', '£', 'kg','/100g', '/'], '', regex=True)\n",
    "\n",
    "# asda_df_new['Price_per_Kg'].replace(['\\(', '\\)', '£', 'kg', '/'], '', regex=True)\n",
    "\n"
   ]
  },
  {
   "cell_type": "code",
   "execution_count": null,
   "metadata": {},
   "outputs": [],
   "source": []
  },
  {
   "cell_type": "code",
   "execution_count": 68,
   "metadata": {},
   "outputs": [
    {
     "data": {
      "text/html": [
       "<div>\n",
       "<style scoped>\n",
       "    .dataframe tbody tr th:only-of-type {\n",
       "        vertical-align: middle;\n",
       "    }\n",
       "\n",
       "    .dataframe tbody tr th {\n",
       "        vertical-align: top;\n",
       "    }\n",
       "\n",
       "    .dataframe thead th {\n",
       "        text-align: right;\n",
       "    }\n",
       "</style>\n",
       "<table border=\"1\" class=\"dataframe\">\n",
       "  <thead>\n",
       "    <tr style=\"text-align: right;\">\n",
       "      <th></th>\n",
       "      <th>Title</th>\n",
       "      <th>Ratings</th>\n",
       "      <th>Price</th>\n",
       "      <th>Price_per_Kg</th>\n",
       "    </tr>\n",
       "  </thead>\n",
       "  <tbody>\n",
       "    <tr>\n",
       "      <th>0</th>\n",
       "      <td>Shazans Halal Beef Mince (Typically Less Than ...</td>\n",
       "      <td>2.38</td>\n",
       "      <td>4.40</td>\n",
       "      <td>8.80</td>\n",
       "    </tr>\n",
       "    <tr>\n",
       "      <th>1</th>\n",
       "      <td>Shazans Halal Chicken Breast Fillets</td>\n",
       "      <td>3.58</td>\n",
       "      <td>4.00</td>\n",
       "      <td>8.89</td>\n",
       "    </tr>\n",
       "    <tr>\n",
       "      <th>2</th>\n",
       "      <td>Shazans Diced Chicken Breast</td>\n",
       "      <td>3.08</td>\n",
       "      <td>4.35</td>\n",
       "      <td>9.67</td>\n",
       "    </tr>\n",
       "    <tr>\n",
       "      <th>3</th>\n",
       "      <td>Shazans Chicken Mini Fillets</td>\n",
       "      <td>3.00</td>\n",
       "      <td>4.50</td>\n",
       "      <td>9.00</td>\n",
       "    </tr>\n",
       "    <tr>\n",
       "      <th>4</th>\n",
       "      <td>Shazans Chicken Thigh Fillets</td>\n",
       "      <td>2.15</td>\n",
       "      <td>4.50</td>\n",
       "      <td>7.50</td>\n",
       "    </tr>\n",
       "  </tbody>\n",
       "</table>\n",
       "</div>"
      ],
      "text/plain": [
       "                                               Title  Ratings  Price  \\\n",
       "0  Shazans Halal Beef Mince (Typically Less Than ...     2.38   4.40   \n",
       "1               Shazans Halal Chicken Breast Fillets     3.58   4.00   \n",
       "2                       Shazans Diced Chicken Breast     3.08   4.35   \n",
       "3                       Shazans Chicken Mini Fillets     3.00   4.50   \n",
       "4                      Shazans Chicken Thigh Fillets     2.15   4.50   \n",
       "\n",
       "  Price_per_Kg  \n",
       "0         8.80  \n",
       "1         8.89  \n",
       "2         9.67  \n",
       "3         9.00  \n",
       "4         7.50  "
      ]
     },
     "execution_count": 68,
     "metadata": {},
     "output_type": "execute_result"
    }
   ],
   "source": [
    "asda_df_new.head()"
   ]
  },
  {
   "cell_type": "code",
   "execution_count": 67,
   "metadata": {},
   "outputs": [
    {
     "data": {
      "text/plain": [
       "0      False\n",
       "1      False\n",
       "2      False\n",
       "3      False\n",
       "4      False\n",
       "       ...  \n",
       "123    False\n",
       "124    False\n",
       "125    False\n",
       "126    False\n",
       "127    False\n",
       "Name: Price_per_Kg, Length: 128, dtype: object"
      ]
     },
     "execution_count": 67,
     "metadata": {},
     "output_type": "execute_result"
    }
   ],
   "source": [
    "asda_df_new['Price_per_Kg'].str.contains('g')"
   ]
  },
  {
   "cell_type": "markdown",
   "metadata": {},
   "source": [
    "## Cleaning the price_per_kg"
   ]
  },
  {
   "cell_type": "code",
   "execution_count": 2,
   "metadata": {},
   "outputs": [],
   "source": [
    "# Loading the data\n",
    "import pandas as pd\n",
    "\n",
    "asda_df = pd.read_csv('Data/halal_meat_data_asda.csv')"
   ]
  },
  {
   "cell_type": "code",
   "execution_count": 3,
   "metadata": {},
   "outputs": [],
   "source": [
    "asda_df_new = asda_df.copy()"
   ]
  },
  {
   "cell_type": "code",
   "execution_count": 4,
   "metadata": {},
   "outputs": [
    {
     "data": {
      "text/html": [
       "<div>\n",
       "<style scoped>\n",
       "    .dataframe tbody tr th:only-of-type {\n",
       "        vertical-align: middle;\n",
       "    }\n",
       "\n",
       "    .dataframe tbody tr th {\n",
       "        vertical-align: top;\n",
       "    }\n",
       "\n",
       "    .dataframe thead th {\n",
       "        text-align: right;\n",
       "    }\n",
       "</style>\n",
       "<table border=\"1\" class=\"dataframe\">\n",
       "  <thead>\n",
       "    <tr style=\"text-align: right;\">\n",
       "      <th></th>\n",
       "      <th>Title</th>\n",
       "      <th>Ratings</th>\n",
       "      <th>Price</th>\n",
       "      <th>Price_per_Kg</th>\n",
       "    </tr>\n",
       "  </thead>\n",
       "  <tbody>\n",
       "    <tr>\n",
       "      <th>0</th>\n",
       "      <td>Shazans Halal Beef Mince (Typically Less Than ...</td>\n",
       "      <td>2.38</td>\n",
       "      <td>now £4.40</td>\n",
       "      <td>(£8.80/kg)</td>\n",
       "    </tr>\n",
       "    <tr>\n",
       "      <th>1</th>\n",
       "      <td>Shazans Halal Chicken Breast Fillets</td>\n",
       "      <td>3.58</td>\n",
       "      <td>now £4.00</td>\n",
       "      <td>(£8.89/kg)</td>\n",
       "    </tr>\n",
       "    <tr>\n",
       "      <th>2</th>\n",
       "      <td>Shazans Diced Chicken Breast</td>\n",
       "      <td>3.08</td>\n",
       "      <td>now £4.35</td>\n",
       "      <td>(£9.67/kg)</td>\n",
       "    </tr>\n",
       "    <tr>\n",
       "      <th>3</th>\n",
       "      <td>Shazans Chicken Mini Fillets</td>\n",
       "      <td>3.00</td>\n",
       "      <td>now £4.50</td>\n",
       "      <td>(£9.00/kg)</td>\n",
       "    </tr>\n",
       "    <tr>\n",
       "      <th>4</th>\n",
       "      <td>Shazans Chicken Thigh Fillets</td>\n",
       "      <td>2.15</td>\n",
       "      <td>now £4.50</td>\n",
       "      <td>(£7.50/kg)</td>\n",
       "    </tr>\n",
       "    <tr>\n",
       "      <th>5</th>\n",
       "      <td>Shazans Halal Small Chicken</td>\n",
       "      <td>3.85</td>\n",
       "      <td>now £4.00</td>\n",
       "      <td>(£4.00/kg)</td>\n",
       "    </tr>\n",
       "    <tr>\n",
       "      <th>6</th>\n",
       "      <td>Shazans Chicken Drumsticks</td>\n",
       "      <td>3.16</td>\n",
       "      <td>now £4.30</td>\n",
       "      <td>(£4.30/kg)</td>\n",
       "    </tr>\n",
       "    <tr>\n",
       "      <th>7</th>\n",
       "      <td>Shazans Peri Peri Baby Chicken</td>\n",
       "      <td>3.95</td>\n",
       "      <td>now £3.75</td>\n",
       "      <td>(£4.69/kg)</td>\n",
       "    </tr>\n",
       "    <tr>\n",
       "      <th>8</th>\n",
       "      <td>Shazans Lamb Sausages</td>\n",
       "      <td>3.04</td>\n",
       "      <td>now £4.50</td>\n",
       "      <td>(£5.36/kg)</td>\n",
       "    </tr>\n",
       "    <tr>\n",
       "      <th>9</th>\n",
       "      <td>Shazans Chicken Drumsticks &amp; Thighs</td>\n",
       "      <td>3.31</td>\n",
       "      <td>now £4.15</td>\n",
       "      <td>(£4.15/kg)</td>\n",
       "    </tr>\n",
       "    <tr>\n",
       "      <th>10</th>\n",
       "      <td>Shazans Chicken Thighs</td>\n",
       "      <td>2.79</td>\n",
       "      <td>now £4.30</td>\n",
       "      <td>(£4.30/kg)</td>\n",
       "    </tr>\n",
       "    <tr>\n",
       "      <th>11</th>\n",
       "      <td>Shazans Halal Peri Peri Chicken Thighs</td>\n",
       "      <td>3.44</td>\n",
       "      <td>now £5.00</td>\n",
       "      <td>(£5.56/kg)</td>\n",
       "    </tr>\n",
       "    <tr>\n",
       "      <th>12</th>\n",
       "      <td>Gino's Premium Southern Fried Chicken Fillets</td>\n",
       "      <td>3.57</td>\n",
       "      <td>now £3.75</td>\n",
       "      <td>(£7.50/kg)</td>\n",
       "    </tr>\n",
       "    <tr>\n",
       "      <th>13</th>\n",
       "      <td>Shazans 4 Quarter Pound Beef Burgers</td>\n",
       "      <td>3.22</td>\n",
       "      <td>now £4.30</td>\n",
       "      <td>(£9.47/kg)</td>\n",
       "    </tr>\n",
       "    <tr>\n",
       "      <th>14</th>\n",
       "      <td>Jahan Southern Fried Chicken Popcorn</td>\n",
       "      <td>3.29</td>\n",
       "      <td>now £2.25</td>\n",
       "      <td>(£4.50/kg)</td>\n",
       "    </tr>\n",
       "    <tr>\n",
       "      <th>15</th>\n",
       "      <td>Shazans Peri Peri Chicken Drumsticks</td>\n",
       "      <td>3.50</td>\n",
       "      <td>now £4.15</td>\n",
       "      <td>(£4.61/kg)</td>\n",
       "    </tr>\n",
       "    <tr>\n",
       "      <th>16</th>\n",
       "      <td>Shazans Halal Peri Peri Chicken Platter</td>\n",
       "      <td>2.75</td>\n",
       "      <td>now £5.50</td>\n",
       "      <td>(£3.44/kg)</td>\n",
       "    </tr>\n",
       "    <tr>\n",
       "      <th>17</th>\n",
       "      <td>Jahan Battered Chicken Nuggets</td>\n",
       "      <td>3.04</td>\n",
       "      <td>now £2.25</td>\n",
       "      <td>(£4.50/kg)</td>\n",
       "    </tr>\n",
       "    <tr>\n",
       "      <th>18</th>\n",
       "      <td>Najma Halal Sliced Turkey Rashers Smoked 150g</td>\n",
       "      <td>4.08</td>\n",
       "      <td>now £2.60</td>\n",
       "      <td>(£1.73/100g)</td>\n",
       "    </tr>\n",
       "    <tr>\n",
       "      <th>19</th>\n",
       "      <td>Gino's Battered Chicken Nuggets</td>\n",
       "      <td>2.41</td>\n",
       "      <td>now £2.90</td>\n",
       "      <td>(£5.80/kg)</td>\n",
       "    </tr>\n",
       "  </tbody>\n",
       "</table>\n",
       "</div>"
      ],
      "text/plain": [
       "                                                Title  Ratings      Price  \\\n",
       "0   Shazans Halal Beef Mince (Typically Less Than ...     2.38  now £4.40   \n",
       "1                Shazans Halal Chicken Breast Fillets     3.58  now £4.00   \n",
       "2                        Shazans Diced Chicken Breast     3.08  now £4.35   \n",
       "3                        Shazans Chicken Mini Fillets     3.00  now £4.50   \n",
       "4                       Shazans Chicken Thigh Fillets     2.15  now £4.50   \n",
       "5                         Shazans Halal Small Chicken     3.85  now £4.00   \n",
       "6                          Shazans Chicken Drumsticks     3.16  now £4.30   \n",
       "7                      Shazans Peri Peri Baby Chicken     3.95  now £3.75   \n",
       "8                               Shazans Lamb Sausages     3.04  now £4.50   \n",
       "9                 Shazans Chicken Drumsticks & Thighs     3.31  now £4.15   \n",
       "10                             Shazans Chicken Thighs     2.79  now £4.30   \n",
       "11             Shazans Halal Peri Peri Chicken Thighs     3.44  now £5.00   \n",
       "12      Gino's Premium Southern Fried Chicken Fillets     3.57  now £3.75   \n",
       "13               Shazans 4 Quarter Pound Beef Burgers     3.22  now £4.30   \n",
       "14               Jahan Southern Fried Chicken Popcorn     3.29  now £2.25   \n",
       "15               Shazans Peri Peri Chicken Drumsticks     3.50  now £4.15   \n",
       "16            Shazans Halal Peri Peri Chicken Platter     2.75  now £5.50   \n",
       "17                     Jahan Battered Chicken Nuggets     3.04  now £2.25   \n",
       "18      Najma Halal Sliced Turkey Rashers Smoked 150g     4.08  now £2.60   \n",
       "19                    Gino's Battered Chicken Nuggets     2.41  now £2.90   \n",
       "\n",
       "    Price_per_Kg  \n",
       "0     (£8.80/kg)  \n",
       "1     (£8.89/kg)  \n",
       "2     (£9.67/kg)  \n",
       "3     (£9.00/kg)  \n",
       "4     (£7.50/kg)  \n",
       "5     (£4.00/kg)  \n",
       "6     (£4.30/kg)  \n",
       "7     (£4.69/kg)  \n",
       "8     (£5.36/kg)  \n",
       "9     (£4.15/kg)  \n",
       "10    (£4.30/kg)  \n",
       "11    (£5.56/kg)  \n",
       "12    (£7.50/kg)  \n",
       "13    (£9.47/kg)  \n",
       "14    (£4.50/kg)  \n",
       "15    (£4.61/kg)  \n",
       "16    (£3.44/kg)  \n",
       "17    (£4.50/kg)  \n",
       "18  (£1.73/100g)  \n",
       "19    (£5.80/kg)  "
      ]
     },
     "execution_count": 4,
     "metadata": {},
     "output_type": "execute_result"
    }
   ],
   "source": [
    "asda_df_new.head(20)"
   ]
  },
  {
   "cell_type": "code",
   "execution_count": 6,
   "metadata": {},
   "outputs": [],
   "source": [
    "asda_df_new = asda_df_new.dropna(subset=['Price_per_Kg'])"
   ]
  },
  {
   "cell_type": "code",
   "execution_count": 8,
   "metadata": {},
   "outputs": [
    {
     "data": {
      "text/plain": [
       "<bound method Series.isnull of 0        (£8.80/kg)\n",
       "1        (£8.89/kg)\n",
       "2        (£9.67/kg)\n",
       "3        (£9.00/kg)\n",
       "4        (£7.50/kg)\n",
       "           ...     \n",
       "123    (£3.12/100g)\n",
       "124     (£11.67/kg)\n",
       "125      (£4.81/kg)\n",
       "126      (£7.14/kg)\n",
       "127      (£6.67/kg)\n",
       "Name: Price_per_Kg, Length: 127, dtype: object>"
      ]
     },
     "execution_count": 8,
     "metadata": {},
     "output_type": "execute_result"
    }
   ],
   "source": [
    "asda_df_new['Price_per_Kg'].isnull"
   ]
  },
  {
   "cell_type": "code",
   "execution_count": 10,
   "metadata": {},
   "outputs": [
    {
     "name": "stderr",
     "output_type": "stream",
     "text": [
      "/var/folders/18/757wgvw17hn8_6yn6nkg5twm0000gn/T/ipykernel_58222/383294616.py:4: SettingWithCopyWarning: \n",
      "A value is trying to be set on a copy of a slice from a DataFrame.\n",
      "Try using .loc[row_indexer,col_indexer] = value instead\n",
      "\n",
      "See the caveats in the documentation: https://pandas.pydata.org/pandas-docs/stable/user_guide/indexing.html#returning-a-view-versus-a-copy\n",
      "  asda_df_new['Numeric'] = asda_df_new['Price_per_Kg'].apply(lambda x: re.findall(r'\\d+\\.\\d+|\\d+', str(x)))\n",
      "/var/folders/18/757wgvw17hn8_6yn6nkg5twm0000gn/T/ipykernel_58222/383294616.py:5: SettingWithCopyWarning: \n",
      "A value is trying to be set on a copy of a slice from a DataFrame.\n",
      "Try using .loc[row_indexer,col_indexer] = value instead\n",
      "\n",
      "See the caveats in the documentation: https://pandas.pydata.org/pandas-docs/stable/user_guide/indexing.html#returning-a-view-versus-a-copy\n",
      "  asda_df_new['Unit'] = asda_df_new['Price_per_Kg'].apply(lambda x: re.findall(r'kg|g', str(x)))\n"
     ]
    }
   ],
   "source": [
    "import re\n",
    "\n",
    "# Extract numeric values and units\n",
    "asda_df_new['Numeric'] = asda_df_new['Price_per_Kg'].apply(lambda x: re.findall(r'\\d+\\.\\d+|\\d+', str(x)))\n",
    "asda_df_new['Unit'] = asda_df_new['Price_per_Kg'].apply(lambda x: re.findall(r'kg|g', str(x)))"
   ]
  },
  {
   "cell_type": "code",
   "execution_count": 12,
   "metadata": {},
   "outputs": [
    {
     "name": "stderr",
     "output_type": "stream",
     "text": [
      "/var/folders/18/757wgvw17hn8_6yn6nkg5twm0000gn/T/ipykernel_58222/3177366208.py:3: SettingWithCopyWarning: \n",
      "A value is trying to be set on a copy of a slice from a DataFrame.\n",
      "Try using .loc[row_indexer,col_indexer] = value instead\n",
      "\n",
      "See the caveats in the documentation: https://pandas.pydata.org/pandas-docs/stable/user_guide/indexing.html#returning-a-view-versus-a-copy\n",
      "  asda_df_new.at[i, 'Price_per_kg'] = float(asda_df_new['Numeric'][i][0])\n"
     ]
    },
    {
     "ename": "KeyError",
     "evalue": "47",
     "output_type": "error",
     "traceback": [
      "\u001b[0;31m---------------------------------------------------------------------------\u001b[0m",
      "\u001b[0;31mKeyError\u001b[0m                                  Traceback (most recent call last)",
      "File \u001b[0;32m~/anaconda3/lib/python3.10/site-packages/pandas/core/indexes/base.py:3802\u001b[0m, in \u001b[0;36mIndex.get_loc\u001b[0;34m(self, key, method, tolerance)\u001b[0m\n\u001b[1;32m   3801\u001b[0m \u001b[38;5;28;01mtry\u001b[39;00m:\n\u001b[0;32m-> 3802\u001b[0m     \u001b[38;5;28;01mreturn\u001b[39;00m \u001b[38;5;28;43mself\u001b[39;49m\u001b[38;5;241;43m.\u001b[39;49m\u001b[43m_engine\u001b[49m\u001b[38;5;241;43m.\u001b[39;49m\u001b[43mget_loc\u001b[49m\u001b[43m(\u001b[49m\u001b[43mcasted_key\u001b[49m\u001b[43m)\u001b[49m\n\u001b[1;32m   3803\u001b[0m \u001b[38;5;28;01mexcept\u001b[39;00m \u001b[38;5;167;01mKeyError\u001b[39;00m \u001b[38;5;28;01mas\u001b[39;00m err:\n",
      "File \u001b[0;32m~/anaconda3/lib/python3.10/site-packages/pandas/_libs/index.pyx:138\u001b[0m, in \u001b[0;36mpandas._libs.index.IndexEngine.get_loc\u001b[0;34m()\u001b[0m\n",
      "File \u001b[0;32m~/anaconda3/lib/python3.10/site-packages/pandas/_libs/index.pyx:165\u001b[0m, in \u001b[0;36mpandas._libs.index.IndexEngine.get_loc\u001b[0;34m()\u001b[0m\n",
      "File \u001b[0;32mpandas/_libs/hashtable_class_helper.pxi:2263\u001b[0m, in \u001b[0;36mpandas._libs.hashtable.Int64HashTable.get_item\u001b[0;34m()\u001b[0m\n",
      "File \u001b[0;32mpandas/_libs/hashtable_class_helper.pxi:2273\u001b[0m, in \u001b[0;36mpandas._libs.hashtable.Int64HashTable.get_item\u001b[0;34m()\u001b[0m\n",
      "\u001b[0;31mKeyError\u001b[0m: 47",
      "\nThe above exception was the direct cause of the following exception:\n",
      "\u001b[0;31mKeyError\u001b[0m                                  Traceback (most recent call last)",
      "Cell \u001b[0;32mIn[12], line 2\u001b[0m\n\u001b[1;32m      1\u001b[0m \u001b[38;5;28;01mfor\u001b[39;00m i \u001b[38;5;129;01min\u001b[39;00m \u001b[38;5;28mrange\u001b[39m(\u001b[38;5;28mlen\u001b[39m(asda_df_new)):\n\u001b[0;32m----> 2\u001b[0m     \u001b[38;5;28;01mif\u001b[39;00m \u001b[38;5;124m'\u001b[39m\u001b[38;5;124mkg\u001b[39m\u001b[38;5;124m'\u001b[39m \u001b[38;5;129;01min\u001b[39;00m \u001b[43masda_df_new\u001b[49m\u001b[43m[\u001b[49m\u001b[38;5;124;43m'\u001b[39;49m\u001b[38;5;124;43mUnit\u001b[39;49m\u001b[38;5;124;43m'\u001b[39;49m\u001b[43m]\u001b[49m\u001b[43m[\u001b[49m\u001b[43mi\u001b[49m\u001b[43m]\u001b[49m:\n\u001b[1;32m      3\u001b[0m         asda_df_new\u001b[38;5;241m.\u001b[39mat[i, \u001b[38;5;124m'\u001b[39m\u001b[38;5;124mPrice_per_kg\u001b[39m\u001b[38;5;124m'\u001b[39m] \u001b[38;5;241m=\u001b[39m \u001b[38;5;28mfloat\u001b[39m(asda_df_new[\u001b[38;5;124m'\u001b[39m\u001b[38;5;124mNumeric\u001b[39m\u001b[38;5;124m'\u001b[39m][i][\u001b[38;5;241m0\u001b[39m])\n\u001b[1;32m      4\u001b[0m     \u001b[38;5;28;01melif\u001b[39;00m \u001b[38;5;124m'\u001b[39m\u001b[38;5;124mg\u001b[39m\u001b[38;5;124m'\u001b[39m \u001b[38;5;129;01min\u001b[39;00m asda_df_new[\u001b[38;5;124m'\u001b[39m\u001b[38;5;124mUnit\u001b[39m\u001b[38;5;124m'\u001b[39m][i]:\n",
      "File \u001b[0;32m~/anaconda3/lib/python3.10/site-packages/pandas/core/series.py:981\u001b[0m, in \u001b[0;36mSeries.__getitem__\u001b[0;34m(self, key)\u001b[0m\n\u001b[1;32m    978\u001b[0m     \u001b[38;5;28;01mreturn\u001b[39;00m \u001b[38;5;28mself\u001b[39m\u001b[38;5;241m.\u001b[39m_values[key]\n\u001b[1;32m    980\u001b[0m \u001b[38;5;28;01melif\u001b[39;00m key_is_scalar:\n\u001b[0;32m--> 981\u001b[0m     \u001b[38;5;28;01mreturn\u001b[39;00m \u001b[38;5;28;43mself\u001b[39;49m\u001b[38;5;241;43m.\u001b[39;49m\u001b[43m_get_value\u001b[49m\u001b[43m(\u001b[49m\u001b[43mkey\u001b[49m\u001b[43m)\u001b[49m\n\u001b[1;32m    983\u001b[0m \u001b[38;5;28;01mif\u001b[39;00m is_hashable(key):\n\u001b[1;32m    984\u001b[0m     \u001b[38;5;66;03m# Otherwise index.get_value will raise InvalidIndexError\u001b[39;00m\n\u001b[1;32m    985\u001b[0m     \u001b[38;5;28;01mtry\u001b[39;00m:\n\u001b[1;32m    986\u001b[0m         \u001b[38;5;66;03m# For labels that don't resolve as scalars like tuples and frozensets\u001b[39;00m\n",
      "File \u001b[0;32m~/anaconda3/lib/python3.10/site-packages/pandas/core/series.py:1089\u001b[0m, in \u001b[0;36mSeries._get_value\u001b[0;34m(self, label, takeable)\u001b[0m\n\u001b[1;32m   1086\u001b[0m     \u001b[38;5;28;01mreturn\u001b[39;00m \u001b[38;5;28mself\u001b[39m\u001b[38;5;241m.\u001b[39m_values[label]\n\u001b[1;32m   1088\u001b[0m \u001b[38;5;66;03m# Similar to Index.get_value, but we do not fall back to positional\u001b[39;00m\n\u001b[0;32m-> 1089\u001b[0m loc \u001b[38;5;241m=\u001b[39m \u001b[38;5;28;43mself\u001b[39;49m\u001b[38;5;241;43m.\u001b[39;49m\u001b[43mindex\u001b[49m\u001b[38;5;241;43m.\u001b[39;49m\u001b[43mget_loc\u001b[49m\u001b[43m(\u001b[49m\u001b[43mlabel\u001b[49m\u001b[43m)\u001b[49m\n\u001b[1;32m   1090\u001b[0m \u001b[38;5;28;01mreturn\u001b[39;00m \u001b[38;5;28mself\u001b[39m\u001b[38;5;241m.\u001b[39mindex\u001b[38;5;241m.\u001b[39m_get_values_for_loc(\u001b[38;5;28mself\u001b[39m, loc, label)\n",
      "File \u001b[0;32m~/anaconda3/lib/python3.10/site-packages/pandas/core/indexes/base.py:3804\u001b[0m, in \u001b[0;36mIndex.get_loc\u001b[0;34m(self, key, method, tolerance)\u001b[0m\n\u001b[1;32m   3802\u001b[0m     \u001b[38;5;28;01mreturn\u001b[39;00m \u001b[38;5;28mself\u001b[39m\u001b[38;5;241m.\u001b[39m_engine\u001b[38;5;241m.\u001b[39mget_loc(casted_key)\n\u001b[1;32m   3803\u001b[0m \u001b[38;5;28;01mexcept\u001b[39;00m \u001b[38;5;167;01mKeyError\u001b[39;00m \u001b[38;5;28;01mas\u001b[39;00m err:\n\u001b[0;32m-> 3804\u001b[0m     \u001b[38;5;28;01mraise\u001b[39;00m \u001b[38;5;167;01mKeyError\u001b[39;00m(key) \u001b[38;5;28;01mfrom\u001b[39;00m \u001b[38;5;21;01merr\u001b[39;00m\n\u001b[1;32m   3805\u001b[0m \u001b[38;5;28;01mexcept\u001b[39;00m \u001b[38;5;167;01mTypeError\u001b[39;00m:\n\u001b[1;32m   3806\u001b[0m     \u001b[38;5;66;03m# If we have a listlike key, _check_indexing_error will raise\u001b[39;00m\n\u001b[1;32m   3807\u001b[0m     \u001b[38;5;66;03m#  InvalidIndexError. Otherwise we fall through and re-raise\u001b[39;00m\n\u001b[1;32m   3808\u001b[0m     \u001b[38;5;66;03m#  the TypeError.\u001b[39;00m\n\u001b[1;32m   3809\u001b[0m     \u001b[38;5;28mself\u001b[39m\u001b[38;5;241m.\u001b[39m_check_indexing_error(key)\n",
      "\u001b[0;31mKeyError\u001b[0m: 47"
     ]
    }
   ],
   "source": [
    "for i in range(len(asda_df_new)):\n",
    "    if 'kg' in asda_df_new['Unit'][i]:\n",
    "        asda_df_new.at[i, 'Price_per_kg'] = float(asda_df_new['Numeric'][i][0])\n",
    "    elif 'g' in asda_df_new['Unit'][i]:\n",
    "        asda_df_new.at[i, 'Price_per_kg'] = float(asda_df_new['Numeric'][i][0]) / 100 * 10"
   ]
  },
  {
   "cell_type": "code",
   "execution_count": null,
   "metadata": {},
   "outputs": [],
   "source": []
  }
 ],
 "metadata": {
  "kernelspec": {
   "display_name": "base",
   "language": "python",
   "name": "python3"
  },
  "language_info": {
   "codemirror_mode": {
    "name": "ipython",
    "version": 3
   },
   "file_extension": ".py",
   "mimetype": "text/x-python",
   "name": "python",
   "nbconvert_exporter": "python",
   "pygments_lexer": "ipython3",
   "version": "3.10.9"
  }
 },
 "nbformat": 4,
 "nbformat_minor": 2
}
